{
 "cells": [
  {
   "cell_type": "code",
   "execution_count": null,
   "metadata": {},
   "outputs": [],
   "source": [
    "import numpy as np\n",
    "import os\n",
    "import pandas as pd\n",
    "\n",
    "from pandasql import sqldf"
   ]
  },
  {
   "cell_type": "code",
   "execution_count": null,
   "metadata": {},
   "outputs": [],
   "source": [
    "# Load patient records that is included in the study\n",
    "df_patientdata = pd.read_csv('data/preprocessed/patient_data.csv', dtype={'stay_id': str, 'subject_id': str, 'acuity': str, 'disposition': str, 'complexity': str}, index_col='stay_id')\n",
    "list_stayid = list(df_patientdata.index)\n",
    "list_subjectid = list(df_patientdata['subject_id'])\n",
    "\n",
    "df_patientdata"
   ]
  },
  {
   "cell_type": "code",
   "execution_count": null,
   "metadata": {},
   "outputs": [],
   "source": [
    "# Load ed/edstays table\n",
    "df_edstays = pd.read_csv('data/ed/edstays.csv', dtype={'stay_id': str, 'subject_id': str})\n",
    "df_edstays['intime'] = pd.to_datetime(df_edstays['intime'])\n",
    "df_edstays['outtime'] = pd.to_datetime(df_edstays['outtime'])\n",
    "df_edstays = df_edstays[df_edstays['stay_id'].isin(list_stayid)]\n",
    "df_edstays = df_edstays[['stay_id', 'subject_id', 'intime', 'outtime']]"
   ]
  },
  {
   "cell_type": "code",
   "execution_count": null,
   "metadata": {},
   "outputs": [],
   "source": [
    "# Create event logs for 'Patient arrival' from ed/edstays table\n",
    "df_logs_patient_arrival = df_edstays[['stay_id', 'intime']].rename(columns={'stay_id': 'case_id', 'intime': 'timestamp'})\n",
    "df_logs_patient_arrival['activity_name'] = ['Patient arrival'] * len(df_logs_patient_arrival)\n",
    "df_logs_patient_arrival = df_logs_patient_arrival[['case_id', 'activity_name', 'timestamp']]\n",
    "\n",
    "df_logs_patient_arrival"
   ]
  },
  {
   "cell_type": "code",
   "execution_count": null,
   "metadata": {},
   "outputs": [],
   "source": [
    "# Create event logs for 'Patient discharge' from ed/edstays table\n",
    "df_logs_patient_discharge = df_edstays[['stay_id', 'outtime']].rename(columns={'stay_id': 'case_id', 'outtime': 'timestamp'})\n",
    "df_logs_patient_discharge['activity_name'] = ['Patient discharge'] * len(df_logs_patient_discharge)\n",
    "df_logs_patient_discharge = df_logs_patient_discharge[['case_id', 'activity_name', 'timestamp']]\n",
    "\n",
    "df_logs_patient_discharge"
   ]
  },
  {
   "cell_type": "code",
   "execution_count": null,
   "metadata": {},
   "outputs": [],
   "source": [
    "# Load ed/vitalsigns table\n",
    "df_vitalsign = pd.read_csv('data/ed/vitalsign.csv', dtype={'stay_id': str, 'subject_id': str})\n",
    "df_vitalsign['charttime'] = pd.to_datetime(df_vitalsign['charttime'])\n",
    "df_vitalsign = df_vitalsign[df_vitalsign['stay_id'].isin(list_stayid)]\n",
    "\n",
    "# Create event logs for 'Vital sign check' from ed/vitalsigns table\n",
    "df_logs_vitalsign_check = df_vitalsign[['stay_id', 'charttime']].rename(columns={'stay_id': 'case_id', 'charttime': 'timestamp'})\n",
    "df_logs_vitalsign_check['activity_name'] = ['Vital sign check'] * len(df_logs_vitalsign_check)\n",
    "df_logs_vitalsign_check = df_logs_vitalsign_check[['case_id', 'activity_name', 'timestamp']]\n",
    "\n",
    "df_logs_vitalsign_check"
   ]
  },
  {
   "cell_type": "code",
   "execution_count": null,
   "metadata": {},
   "outputs": [],
   "source": [
    "# Load ed/pyxis table\n",
    "df_pyxis = pd.read_csv('data/ed/pyxis.csv', dtype={'stay_id': str, 'subject_id': str})\n",
    "df_pyxis['charttime'] = pd.to_datetime(df_pyxis['charttime'])\n",
    "df_pyxis = df_pyxis[df_pyxis['stay_id'].isin(list_stayid)]\n",
    "\n",
    "# Create event logs for 'Medicine dispensation' from ed/pyxis table\n",
    "df_logs_medicine_dispensation = df_pyxis[['stay_id', 'charttime']].rename(columns={'stay_id': 'case_id', 'charttime': 'timestamp'})\n",
    "df_logs_medicine_dispensation['activity_name'] = ['Medicine dispensation'] * len(df_logs_medicine_dispensation)\n",
    "df_logs_medicine_dispensation = df_logs_medicine_dispensation[['case_id', 'activity_name', 'timestamp']]\n",
    "\n",
    "df_logs_medicine_dispensation"
   ]
  },
  {
   "cell_type": "code",
   "execution_count": null,
   "metadata": {},
   "outputs": [],
   "source": [
    "# Load hosp/emar table\n",
    "df_emar = pd.read_csv('data/hosp/emar.csv', dtype={'subject_id': str})\n",
    "\n",
    "df_emar"
   ]
  },
  {
   "cell_type": "code",
   "execution_count": null,
   "metadata": {},
   "outputs": [],
   "source": [
    "# Create event logs for 'Medicine administration' from hosp/emar table\n",
    "df_emar_logs = df_emar[df_emar['event_txt'].isin(['Started in Other Location', 'Administered in Other Location', 'Started', 'Administered'])]\n",
    "df_emar_logs = df_emar_logs[df_emar_logs['subject_id'].isin(list_subjectid)]\n",
    "df_emar_logs = df_emar_logs[['subject_id', 'charttime']]\n",
    "\n",
    "query_medicine_administration = \"\"\"\n",
    "    SELECT *\n",
    "    FROM df_edstays\n",
    "    INNER JOIN df_emar_logs\n",
    "    ON df_edstays.subject_id = df_emar_logs.subject_id\n",
    "    WHERE df_emar_logs.charttime BETWEEN df_edstays.intime AND df_edstays.outtime\n",
    "\"\"\"\n",
    "\n",
    "df_logs_medicine_administration = sqldf(query_medicine_administration, globals())\n",
    "\n",
    "df_logs_medicine_administration = df_logs_medicine_administration[['stay_id', 'charttime']].rename(columns={'stay_id': 'case_id', 'charttime': 'timestamp'})\n",
    "df_logs_medicine_administration['activity_name'] = ['Medicine administration'] * len(df_logs_medicine_administration)\n",
    "df_logs_medicine_administration = df_logs_medicine_administration[['case_id', 'activity_name', 'timestamp']]\n",
    "\n",
    "df_logs_medicine_administration"
   ]
  },
  {
   "cell_type": "code",
   "execution_count": null,
   "metadata": {},
   "outputs": [],
   "source": [
    "# Load hosp/poe table\n",
    "df_poe = pd.read_csv('data/hosp/poe.csv', dtype={'subject_id': str})\n",
    "\n",
    "df_poe"
   ]
  },
  {
   "cell_type": "code",
   "execution_count": null,
   "metadata": {},
   "outputs": [],
   "source": [
    "# Create event logs for 'Imaging request' from hosp/poe table\n",
    "df_poe_logs = df_poe[df_poe['order_subtype'].isin(['CT Scan', 'Ultrasound', 'General Xray', 'MRI'])]\n",
    "df_poe_logs = df_poe_logs[df_poe_logs['subject_id'].isin(list_subjectid)]\n",
    "df_poe_logs = df_poe_logs[['subject_id', 'ordertime']]\n",
    "\n",
    "query_imaging_request = \"\"\"\n",
    "    SELECT *\n",
    "    FROM df_edstays\n",
    "    INNER JOIN df_poe_logs\n",
    "    ON df_edstays.subject_id = df_poe_logs.subject_id\n",
    "    WHERE df_poe_logs.ordertime BETWEEN df_edstays.intime AND df_edstays.outtime\n",
    "\"\"\"\n",
    "\n",
    "df_logs_imaging_request = sqldf(query_imaging_request, globals())\n",
    "\n",
    "df_logs_imaging_request = df_logs_imaging_request[['stay_id', 'ordertime']].rename(columns={'stay_id': 'case_id', 'ordertime': 'timestamp'})\n",
    "df_logs_imaging_request['activity_name'] = ['Imaging request'] * len(df_logs_imaging_request)\n",
    "df_logs_imaging_request = df_logs_imaging_request[['case_id', 'activity_name', 'timestamp']]\n",
    "\n",
    "df_logs_imaging_request"
   ]
  },
  {
   "cell_type": "code",
   "execution_count": null,
   "metadata": {},
   "outputs": [],
   "source": [
    "# Load hosp/labevents table\n",
    "BATCH_SIZE = 1000000\n",
    "list_labevents_logs = []\n",
    "for df_batch in pd.read_csv('data/hosp/labevents.csv', chunksize=BATCH_SIZE, low_memory=False):\n",
    "    # Create event logs for 'Lab test' from hosp/labevents table\n",
    "    df_batch['subject_id'] = df_batch['subject_id'].astype(str)\n",
    "    df_labevents_logs_batch = df_batch[df_batch['subject_id'].isin(list_subjectid)]\n",
    "    df_labevents_logs_batch = df_labevents_logs_batch[['subject_id', 'storetime']]\n",
    "    list_labevents_logs.append(df_labevents_logs_batch)\n",
    "\n",
    "df_labevents_logs = pd.concat(list_labevents_logs, ignore_index=True)\n",
    "\n",
    "df_labevents_logs"
   ]
  },
  {
   "cell_type": "code",
   "execution_count": null,
   "metadata": {},
   "outputs": [],
   "source": [
    "# Do in batches because table size is large\n",
    "BATCH_SIZE = 100000\n",
    "list_logs_lab_test = []\n",
    "for idx in range(0, len(df_labevents_logs), BATCH_SIZE):\n",
    "    df_batch = df_labevents_logs.iloc[idx:idx + BATCH_SIZE]\n",
    "\n",
    "    query_lab_request = \"\"\"\n",
    "        SELECT *\n",
    "        FROM df_edstays\n",
    "        INNER JOIN df_batch\n",
    "        ON df_edstays.subject_id = df_batch.subject_id\n",
    "        WHERE df_batch.storetime BETWEEN df_edstays.intime AND df_edstays.outtime\n",
    "    \"\"\"\n",
    "\n",
    "    df_batch_logs = sqldf(query_lab_request, globals())\n",
    "\n",
    "    df_batch_logs = df_batch_logs[['stay_id', 'storetime']].rename(columns={'stay_id': 'case_id', 'storetime': 'timestamp'})\n",
    "    df_batch_logs['activity_name'] = ['Lab test'] * len(df_batch_logs)\n",
    "    df_batch_logs = df_batch_logs[['case_id', 'activity_name', 'timestamp']]\n",
    "    list_logs_lab_test.append(df_batch_logs)\n",
    "\n",
    "df_logs_lab_test = pd.concat(list_logs_lab_test, ignore_index=True)\n",
    "\n",
    "df_logs_lab_test"
   ]
  },
  {
   "cell_type": "code",
   "execution_count": null,
   "metadata": {},
   "outputs": [],
   "source": [
    "# Concatenate event logs of all ED activities\n",
    "df_logs_ed = pd.concat([df_logs_patient_arrival, df_logs_vitalsign_check, df_logs_medicine_dispensation, df_logs_medicine_administration, df_logs_lab_test, df_logs_imaging_request, df_logs_patient_discharge])\n",
    "\n",
    "df_logs_ed"
   ]
  },
  {
   "cell_type": "code",
   "execution_count": null,
   "metadata": {},
   "outputs": [],
   "source": [
    "# Relabel and sort event logs\n",
    "df_logs_ed['timestamp'] = pd.to_datetime(df_logs_ed['timestamp']).round('min')\n",
    "\n",
    "dict_activity_idx = {\n",
    "    'Patient arrival': 'A',\n",
    "    'Vital sign check': 'B',\n",
    "    'Medicine dispensation': 'C',\n",
    "    'Medicine administration': 'D',\n",
    "    'Lab test': 'E',\n",
    "    'Imaging request': 'F',\n",
    "    'Patient discharge': 'G'\n",
    "}\n",
    "for key in dict_activity_idx.keys():\n",
    "    df_logs_ed['activity_name'] = np.where(df_logs_ed['activity_name'] == key, dict_activity_idx[key], df_logs_ed['activity_name'])\n",
    "\n",
    "df_logs_ed = df_logs_ed.sort_values(['case_id', 'timestamp', 'activity_name'])\n",
    "\n",
    "df_logs_ed"
   ]
  },
  {
   "cell_type": "code",
   "execution_count": null,
   "metadata": {},
   "outputs": [],
   "source": [
    "# Save event logs that will be used for the study\n",
    "outpath_edlogs = 'data/preprocessed'\n",
    "if not os.path.exists(outpath_edlogs):\n",
    "    os.makedirs(outpath_edlogs)\n",
    "\n",
    "df_logs_ed.to_csv(f'{outpath_edlogs}/event_logs.csv', index=False)"
   ]
  }
 ],
 "metadata": {
  "kernelspec": {
   "display_name": "base",
   "language": "python",
   "name": "python3"
  },
  "language_info": {
   "codemirror_mode": {
    "name": "ipython",
    "version": 3
   },
   "file_extension": ".py",
   "mimetype": "text/x-python",
   "name": "python",
   "nbconvert_exporter": "python",
   "pygments_lexer": "ipython3",
   "version": "3.9.12"
  }
 },
 "nbformat": 4,
 "nbformat_minor": 2
}

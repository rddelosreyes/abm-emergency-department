{
 "cells": [
  {
   "cell_type": "code",
   "execution_count": null,
   "metadata": {},
   "outputs": [],
   "source": [
    "import json\n",
    "import matplotlib.pyplot as plt\n",
    "import numpy as np\n",
    "import os\n",
    "import pandas as pd\n",
    "import seaborn as sns\n",
    "\n",
    "from matplotlib import rc\n",
    "rc('font',**{'family':'sans-serif','sans-serif':['Helvetica']})\n",
    "\n",
    "from tqdm import tqdm\n",
    "from scipy.stats import wasserstein_distance"
   ]
  },
  {
   "cell_type": "code",
   "execution_count": null,
   "metadata": {},
   "outputs": [],
   "source": [
    "def load_results(simulation_type, run_id):\n",
    "    runid_foldername = [foldername for foldername in os.listdir(f'experiments/{simulation_type}') if foldername == f'output_{run_id}'][0]\n",
    "    output_folder = f'experiments/{simulation_type}/{runid_foldername}'\n",
    "\n",
    "    seed_list = []\n",
    "    file_list = os.listdir(f'{output_folder}')\n",
    "    for file in file_list:\n",
    "        if 'seed' in file:\n",
    "            seed_list.append(file.split('_')[1])\n",
    "    seed_list = list(set(seed_list))\n",
    "\n",
    "    results_list = []\n",
    "    for seed in tqdm(seed_list):\n",
    "        df_seed = pd.read_csv(f'{output_folder}/seed_{seed}')\n",
    "        df_seed['ed_los'] = df_seed['ed_los'] / 60\n",
    "        df_seed['case_len'] = df_seed.destination_record.str.len()\n",
    "        results_list.append(df_seed)\n",
    "    df_results = pd.concat(results_list)\n",
    "\n",
    "    return df_results\n",
    "\n",
    "def plot_distribution_los(target_distribution, generated_distribution, color, branching_type, xlabel):\n",
    "    fig, axes = plt.subplots(1, 1, figsize=(1.5,1))\n",
    "    fig.dpi = 600\n",
    "\n",
    "    axes.axvline(np.median(target_distribution), color='black', linestyle='--', label='Target\\ndistribution')\n",
    "    axes.axvline(np.median(generated_distribution), color=color, linestyle='--', label=branching_type + '\\nbranching')\n",
    "\n",
    "    sns.kdeplot(data=target_distribution, color='black', bw_adjust=2, clip=(0,12))\n",
    "    sns.kdeplot(data=generated_distribution, color=color, linewidth=0, fill=True, alpha=0.5, bw_adjust=2, clip=(0,12))\n",
    "\n",
    "    axes.set_xticks(np.arange(0, 13, 6))\n",
    "    axes.set_xlim(0, 12)\n",
    "    axes.set_ylim(0, 0.2)\n",
    "    axes.set_yticks([0.0, 0.2])\n",
    "\n",
    "    median_target = round(np.median(target_distribution), 1)\n",
    "    median_generated = round(np.median(generated_distribution), 1)\n",
    "\n",
    "    if branching_type == 'Independent':\n",
    "        axes.text(median_target + 0.4, 0.17, f'{median_target}', fontsize=8, color='black')\n",
    "        axes.text(median_generated - 2, 0.17, f'{median_generated}', fontsize=8, color='#E69F00')\n",
    "    elif branching_type == 'Conditional':\n",
    "        axes.text(median_target + 0.4, 0.17, f'{median_target}', fontsize=8, color='black')\n",
    "        axes.text(median_target + 0.4, 0.14, f'{median_generated}', fontsize=8, color='#56B4E9')\n",
    "\n",
    "    plt.legend()\n",
    "    sns.move_legend(axes, 'lower center', bbox_to_anchor=(.5, 1), ncol=2, title=None,\n",
    "    frameon=False, columnspacing=2, handlelength=0.8, handletextpad=0.8, reverse=False, fontsize='small')\n",
    "\n",
    "    legend = axes.get_legend()\n",
    "    title = legend.get_title()\n",
    "    title.set_fontsize('small')\n",
    "    plt.ylabel('Density', fontsize='small')\n",
    "    plt.xlabel(xlabel, fontsize='small')\n",
    "    plt.tick_params(axis='both', which='both', labelsize='small')\n",
    "\n",
    "    plt.show()\n",
    "\n",
    "def plot_distribution_caselen(target_distribution, generated_distribution, color, branching_type, xlabel):\n",
    "    fig, axes = plt.subplots(1, 1, figsize=(1.5,1))\n",
    "    fig.dpi = 600\n",
    "\n",
    "    axes.axvline(np.median(target_distribution), color='black', linestyle='--', label='Target\\ndistribution')\n",
    "    axes.axvline(np.median(generated_distribution), color=color, linestyle='--', label=branching_type + '\\nbranching')\n",
    "\n",
    "    sns.kdeplot(data=target_distribution, color='black', bw_adjust=2, clip=(0,30))\n",
    "    sns.kdeplot(data=generated_distribution, color=color, linewidth=0, fill=True, alpha=0.5, bw_adjust=2, clip=(0,30))\n",
    "\n",
    "    axes.set_xticks(np.arange(0, 31, 15))\n",
    "    axes.set_xlim(0, 30)\n",
    "    axes.set_ylim(0, 0.1)\n",
    "    axes.set_yticks([0.0, 0.1])\n",
    "\n",
    "    median_target = round(np.median(target_distribution), 1)\n",
    "    median_generated = round(np.median(generated_distribution), 1)\n",
    "\n",
    "    if branching_type == 'Independent':\n",
    "        axes.text(median_target + 0.8, 0.085, f'{median_target:.0f}', fontsize=8, color='black')\n",
    "        axes.text(median_generated - 2.8, 0.085, f'{median_generated:.0f}', fontsize=8, color='#E69F00')\n",
    "    elif branching_type == 'Conditional':\n",
    "        axes.text(median_target + 0.8, 0.085, f'{median_target:.0f}', fontsize=8, color='black')\n",
    "        axes.text(median_target + 0.8, 0.07, f'{median_generated:.0f}', fontsize=8, color='#56B4E9')\n",
    "\n",
    "    plt.legend()\n",
    "    sns.move_legend(axes, 'lower center', bbox_to_anchor=(.5, 1), ncol=2, title=None,\n",
    "    frameon=False, columnspacing=2, handlelength=0.8, handletextpad=0.8, reverse=False, fontsize='small')\n",
    "\n",
    "    legend = axes.get_legend()\n",
    "    title = legend.get_title()\n",
    "    title.set_fontsize('small')\n",
    "    plt.ylabel('Density', fontsize='small')\n",
    "    plt.xlabel(xlabel, fontsize='small')\n",
    "    plt.tick_params(axis='both', which='both', labelsize='small')\n",
    "\n",
    "    plt.show()"
   ]
  },
  {
   "cell_type": "code",
   "execution_count": null,
   "metadata": {},
   "outputs": [],
   "source": [
    "df_pro = load_results('experiment_1', '1')\n",
    "df_ret = load_results('experiment_1', '2')"
   ]
  },
  {
   "cell_type": "code",
   "execution_count": null,
   "metadata": {},
   "outputs": [],
   "source": [
    "with open('params/los/los_overall.txt') as filehandle:\n",
    "    los_overall_list = json.load(filehandle)\n",
    "\n",
    "plot_distribution_los(los_overall_list, df_pro['ed_los'], '#E69F00', 'Independent', 'Length of stay')\n",
    "plot_distribution_los(los_overall_list, df_ret['ed_los'], '#56B4E9', 'Conditional', 'Length of stay')"
   ]
  },
  {
   "cell_type": "code",
   "execution_count": null,
   "metadata": {},
   "outputs": [],
   "source": [
    "with open('params/caselen/caselen_overall.txt') as filehandle:\n",
    "    caselen_overall_list = json.load(filehandle)\n",
    "\n",
    "plot_distribution_caselen(caselen_overall_list, df_pro['case_len'], '#E69F00', 'Independent', 'Resource usage')\n",
    "plot_distribution_caselen(caselen_overall_list, df_ret['case_len'], '#56B4E9', 'Conditional', 'Resource usage')"
   ]
  },
  {
   "cell_type": "code",
   "execution_count": null,
   "metadata": {},
   "outputs": [],
   "source": [
    "wasserstein_distance(los_overall_list, df_pro['ed_los'])"
   ]
  },
  {
   "cell_type": "code",
   "execution_count": null,
   "metadata": {},
   "outputs": [],
   "source": [
    "wasserstein_distance(los_overall_list, df_ret['ed_los'])"
   ]
  },
  {
   "cell_type": "code",
   "execution_count": null,
   "metadata": {},
   "outputs": [],
   "source": [
    "wasserstein_distance(caselen_overall_list, df_pro['case_len'])"
   ]
  },
  {
   "cell_type": "code",
   "execution_count": null,
   "metadata": {},
   "outputs": [],
   "source": [
    "wasserstein_distance(caselen_overall_list, df_ret['case_len'])"
   ]
  }
 ],
 "metadata": {
  "kernelspec": {
   "display_name": "base",
   "language": "python",
   "name": "python3"
  },
  "language_info": {
   "codemirror_mode": {
    "name": "ipython",
    "version": 3
   },
   "file_extension": ".py",
   "mimetype": "text/x-python",
   "name": "python",
   "nbconvert_exporter": "python",
   "pygments_lexer": "ipython3",
   "version": "3.9.12"
  },
  "orig_nbformat": 4
 },
 "nbformat": 4,
 "nbformat_minor": 2
}

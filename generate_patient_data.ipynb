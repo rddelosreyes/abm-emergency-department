{
 "cells": [
  {
   "cell_type": "code",
   "execution_count": null,
   "metadata": {},
   "outputs": [],
   "source": [
    "import numpy as np\n",
    "import os\n",
    "import pandas as pd\n",
    "\n",
    "from tqdm import tqdm"
   ]
  },
  {
   "cell_type": "code",
   "execution_count": null,
   "metadata": {},
   "outputs": [],
   "source": [
    "# Load ed/edstays table\n",
    "df_edstays = pd.read_csv('data/ed/edstays.csv', dtype={'stay_id': str, 'subject_id': str, 'arrival_transport': str, 'disposition': str, 'hadm_id': str}, index_col='stay_id')\n",
    "df_edstays['intime'] = pd.to_datetime(df_edstays['intime'])\n",
    "df_edstays['outtime'] = pd.to_datetime(df_edstays['outtime'])\n",
    "df_edstays.loc[:, 'los'] = (df_edstays['outtime'] - df_edstays['intime']).dt.total_seconds() / (60*60)"
   ]
  },
  {
   "cell_type": "code",
   "execution_count": null,
   "metadata": {},
   "outputs": [],
   "source": [
    "# Load hosp/patients table\n",
    "df_patients = pd.read_csv('data/hosp/patients.csv', dtype={'subject_id': str, 'anchor_age': int, 'anchor_year': int}, index_col='subject_id')\n",
    "dict_patients = df_patients.to_dict(orient='index')"
   ]
  },
  {
   "cell_type": "code",
   "execution_count": null,
   "metadata": {},
   "outputs": [],
   "source": [
    "# Add patient age to ed/edstays table\n",
    "df_patientdata = pd.merge(df_edstays, df_patients, how='left', left_index=True, right_on='subject_id')\n",
    "age_col = []\n",
    "for stay_idx in tqdm(df_edstays.index):\n",
    "    val_admityear = df_edstays.loc[stay_idx, 'intime'].year\n",
    "\n",
    "    subject_idx = df_edstays.loc[stay_idx, 'subject_id']\n",
    "    val_anchoryear = dict_patients[subject_idx]['anchor_year']\n",
    "    val_anchorage = dict_patients[subject_idx]['anchor_age']\n",
    "\n",
    "    age_col.append(val_admityear - val_anchoryear + val_anchorage)\n",
    "df_edstays.loc[:, 'age'] = age_col"
   ]
  },
  {
   "cell_type": "code",
   "execution_count": null,
   "metadata": {},
   "outputs": [],
   "source": [
    "# Load list of hadm_id in icu/icustays\n",
    "df_icustays = pd.read_csv('data/icu/icustays.csv', dtype={'hadm_id': str})\n",
    "list_icustays_hadm_id = df_icustays['hadm_id']"
   ]
  },
  {
   "cell_type": "code",
   "execution_count": null,
   "metadata": {},
   "outputs": [],
   "source": [
    "# Relabel ADMITTED disposition to either WARD or ICU\n",
    "df_edstays['disposition'] = np.where(df_edstays['disposition'] == 'ADMITTED', 'WARD', df_edstays['disposition'])\n",
    "df_edstays['disposition'] = np.where(df_edstays['hadm_id'].isin(list_icustays_hadm_id), 'ICU', df_edstays['disposition'])\n",
    "\n",
    "df_edstays"
   ]
  },
  {
   "cell_type": "code",
   "execution_count": null,
   "metadata": {},
   "outputs": [],
   "source": [
    "# Load ed/triage table\n",
    "df_triage = pd.read_csv('data/ed/triage.csv', index_col='stay_id', dtype={'stay_id': str, 'acuity': str})\n",
    "df_triage['acuity'] = df_triage['acuity'].fillna('-1').astype(float).astype(int).astype(str)\n",
    "\n",
    "df_triage"
   ]
  },
  {
   "cell_type": "code",
   "execution_count": null,
   "metadata": {},
   "outputs": [],
   "source": [
    "# Load ed/diagnosis table (only primary diagnosis)\n",
    "df_diagnosis = pd.read_csv('data/ed/diagnosis.csv', dtype={'stay_id': str, 'seq_num': str, 'icd_code': str, 'icd_version': str}, index_col='stay_id')\n",
    "df_diagnosis = df_diagnosis[df_diagnosis['seq_num'] == '1'] # primary diagnosis\n",
    "\n",
    "df_diagnosis"
   ]
  },
  {
   "cell_type": "code",
   "execution_count": null,
   "metadata": {},
   "outputs": [],
   "source": [
    "# Get columns from each dataframes that will be used for the study\n",
    "df_edstays = df_edstays[['subject_id', 'age', 'arrival_transport', 'disposition', 'los']]\n",
    "df_triage = df_triage[['acuity']]\n",
    "df_diagnosis = df_diagnosis[['icd_code', 'icd_version']]"
   ]
  },
  {
   "cell_type": "code",
   "execution_count": null,
   "metadata": {},
   "outputs": [],
   "source": [
    "# Merge into one dataframe\n",
    "df_patientdata = pd.merge(df_edstays, df_triage, how='left', left_index=True, right_index=True).merge(df_diagnosis, how='left', left_index=True, right_index=True)\n",
    "\n",
    "df_patientdata"
   ]
  },
  {
   "cell_type": "code",
   "execution_count": null,
   "metadata": {},
   "outputs": [],
   "source": [
    "# Limit study to patients with LOS within 72 hours\n",
    "df_patientdata = df_patientdata[df_patientdata['los'] <= 72].copy()\n",
    "\n",
    "df_patientdata"
   ]
  },
  {
   "cell_type": "code",
   "execution_count": null,
   "metadata": {},
   "outputs": [],
   "source": [
    "# Filter data with invalid values for the experiments\n",
    "df_patientdata = df_patientdata[df_patientdata['acuity'].isin(['1', '2', '3', '4', '5'])].copy()\n",
    "df_patientdata = df_patientdata[df_patientdata['disposition'].isin(['HOME', 'WARD', 'ICU'])].copy()\n",
    "\n",
    "df_patientdata"
   ]
  },
  {
   "cell_type": "code",
   "execution_count": null,
   "metadata": {},
   "outputs": [],
   "source": [
    "# Filter data with invalid values for the experiments\n",
    "df_patientdata.dropna(subset='icd_code', inplace=True)\n",
    "\n",
    "df_patientdata"
   ]
  },
  {
   "cell_type": "code",
   "execution_count": null,
   "metadata": {},
   "outputs": [],
   "source": [
    "# Load mapping for ICD-9 to ICD-10\n",
    "# (input file obtained from https://www.cms.gov/medicare/coordination-benefits-recovery/overview/icd-code-lists)\n",
    "# (output file generated using https://github.com/ClancyClark/ICD9to10mapping)\n",
    "\n",
    "df_icd9_to_icd10 = pd.read_csv('data/others/icd9_to_icd10.csv', dtype={'ICD9': str, 'ICD10': str, 'FLAG': str})\n",
    "\n",
    "# Select one-to-one mappings\n",
    "df_icd9_to_icd10 = df_icd9_to_icd10[df_icd9_to_icd10['FLAG'].isin(['00000', '10000'])].drop(columns=['FLAG'])\n",
    "df_icd9_to_icd10.drop_duplicates(subset=['ICD9'], keep=False, inplace=True)\n",
    "\n",
    "df_icd9_to_icd10 = df_icd9_to_icd10.set_index('ICD9')\n",
    "dict_idc9_to_icd10 = df_icd9_to_icd10.to_dict(orient='index')"
   ]
  },
  {
   "cell_type": "code",
   "execution_count": null,
   "metadata": {},
   "outputs": [],
   "source": [
    "# Load mapping for ICD-10 to ICD-10-AM\n",
    "# (based on the 12th edition mapping table from https://www.ihacpa.gov.au/resources/icd-10-am-and-achi-mapping-tables)\n",
    "\n",
    "df_icd10_to_icd10am = pd.read_csv('data/others/icd10_to_icd10am.csv')\n",
    "df_icd10_to_icd10am['ICD-10'] = df_icd10_to_icd10am['ICD-10'].str.replace('.', '', regex=False)\n",
    "df_icd10_to_icd10am['ICD-10-AM'] = df_icd10_to_icd10am['ICD-10-AM'].str.replace('.', '', regex=False)\n",
    "\n",
    "# Remove one-to-many mappings\n",
    "df_icd10_to_icd10am.drop_duplicates(subset='ICD-10', keep=False, inplace=True)\n",
    "\n",
    "df_icd10_to_icd10am = df_icd10_to_icd10am.set_index('ICD-10')\n",
    "dict_icd10_to_icd10am = df_icd10_to_icd10am.to_dict(orient='index')"
   ]
  },
  {
   "cell_type": "code",
   "execution_count": null,
   "metadata": {},
   "outputs": [],
   "source": [
    "# Relabel icd_code with ICD-10-AM codes\n",
    "icd10am_col = []\n",
    "list_icd9_to_icd10_mapping = list(dict_idc9_to_icd10.keys())\n",
    "list_icd10_to_icd10am_mapping = list(dict_icd10_to_icd10am.keys())\n",
    "\n",
    "for stay_idx in tqdm(df_patientdata.index):\n",
    "    icd_idx = df_patientdata.loc[stay_idx, 'icd_code']\n",
    "    icd_ver = df_patientdata.loc[stay_idx, 'icd_version']\n",
    "\n",
    "    # If no entry for ICD code, retain as nan\n",
    "    if pd.isna(icd_idx):\n",
    "        icd10am_col.append(np.nan)\n",
    "        continue\n",
    "\n",
    "    # If ICD code version is 9, convert to ICD-10 first\n",
    "    if icd_ver == '9':\n",
    "        flag_index = -1\n",
    "        if icd_idx[:3] in list_icd9_to_icd10_mapping:\n",
    "            flag_index = 3\n",
    "        if icd_idx[:4] in list_icd9_to_icd10_mapping:\n",
    "            flag_index = 4\n",
    "        if icd_idx[:5] in list_icd9_to_icd10_mapping:\n",
    "            flag_index = 5\n",
    "\n",
    "        if flag_index != -1:\n",
    "            val_icd10 = dict_idc9_to_icd10[icd_idx[:flag_index]]['ICD10']\n",
    "            icd_idx = val_icd10\n",
    "        else:\n",
    "            icd10am_col.append(np.nan)\n",
    "            continue\n",
    "\n",
    "    # Convert ICD-10 to ICD-10-AM\n",
    "    flag_index = -1\n",
    "    if icd_idx[:3] in list_icd10_to_icd10am_mapping:\n",
    "        flag_index = 3\n",
    "    if icd_idx[:4] in list_icd10_to_icd10am_mapping:\n",
    "        flag_index = 4\n",
    "    if icd_idx[:5] in list_icd10_to_icd10am_mapping:\n",
    "        flag_index = 5\n",
    "\n",
    "    if flag_index != -1:\n",
    "        val_icd10am = dict_icd10_to_icd10am[icd_idx[:flag_index]]['ICD-10-AM']\n",
    "        icd10am_col.append(val_icd10am)\n",
    "    else:\n",
    "        icd10am_col.append(np.nan)\n",
    "\n",
    "df_patientdata.loc[:, 'icd_code'] = icd10am_col\n",
    "\n",
    "df_patientdata"
   ]
  },
  {
   "cell_type": "code",
   "execution_count": null,
   "metadata": {},
   "outputs": [],
   "source": [
    "# Filter data with invalid values for the experiments\n",
    "df_patientdata.dropna(subset='icd_code', inplace=True)\n",
    "\n",
    "df_patientdata"
   ]
  },
  {
   "cell_type": "code",
   "execution_count": null,
   "metadata": {},
   "outputs": [],
   "source": [
    "df_aecc_mapping = pd.read_csv('data/others/aecc_to_icd10.csv')\n",
    "df_aecc_mapping['icd10'] = df_aecc_mapping['icd10'].str.replace('.', '', regex=False)\n",
    "df_aecc_mapping = df_aecc_mapping.set_index('icd10')\n",
    "dict_aecc_mapping = df_aecc_mapping.to_dict(orient='index')"
   ]
  },
  {
   "cell_type": "code",
   "execution_count": null,
   "metadata": {},
   "outputs": [],
   "source": [
    "ecdg_col = []\n",
    "ecdgsub_col = []\n",
    "for stay_idx in tqdm(df_patientdata.index):\n",
    "    icd_idx = df_patientdata.loc[stay_idx, 'icd_code']\n",
    "\n",
    "    if icd_idx in dict_aecc_mapping.keys():\n",
    "        val_ecdg = dict_aecc_mapping[icd_idx]['ecdg_code'].split()[0]\n",
    "        val_ecdgsub = dict_aecc_mapping[icd_idx]['ecdg_subgroup'].split()[0]\n",
    "\n",
    "        ecdg_col.append(val_ecdg)\n",
    "        ecdgsub_col.append(val_ecdgsub)\n",
    "    else:\n",
    "        ecdg_col.append(np.nan)\n",
    "        ecdgsub_col.append(np.nan)\n",
    "\n",
    "df_patientdata.loc[:, 'ecdg'] = ecdg_col\n",
    "df_patientdata.loc[:, 'ecdg_subgroup'] = ecdgsub_col"
   ]
  },
  {
   "cell_type": "code",
   "execution_count": null,
   "metadata": {},
   "outputs": [],
   "source": [
    "# Filter data with invalid values for the experiments\n",
    "df_patientdata.dropna(subset=['ecdg', 'ecdg_subgroup'], inplace=True)\n",
    "\n",
    "df_patientdata"
   ]
  },
  {
   "cell_type": "code",
   "execution_count": null,
   "metadata": {},
   "outputs": [],
   "source": [
    "# Add complexity label to each records based on the Australian Emergency Care Classification\n",
    "df_aecc_coefficients = pd.read_csv('data/others/aecc_coefficients.csv', index_col='ecdg_code')\n",
    "dict_aecc_coefficients = df_aecc_coefficients.to_dict(orient='index')\n",
    "\n",
    "df_aecc_subgroup_intercept = pd.read_csv('data/others/aecc_subgroup_intercept.csv', index_col='ecdg_subgroup')\n",
    "dict_aecc_subgroup_intercept_temp = df_aecc_subgroup_intercept.to_dict(orient='index')\n",
    "dict_aecc_subgroup_intercept = {}\n",
    "for key, val in dict_aecc_subgroup_intercept_temp.items():\n",
    "    dict_aecc_subgroup_intercept[key.split()[0]] = val\n",
    "\n",
    "df_aecc_threshold = pd.read_csv('data/others/aecc_threshold.csv', index_col='aecc_class')\n",
    "dict_aecc_threshold_temp = df_aecc_threshold.to_dict(orient='index')\n",
    "dict_aecc_threshold = {}\n",
    "for key, val in dict_aecc_threshold_temp.items():\n",
    "    ecdg_code = val['ecdg_code'].split()[0]\n",
    "    if ecdg_code not in dict_aecc_threshold.keys():\n",
    "        dict_aecc_threshold[ecdg_code] = {}\n",
    "        dict_aecc_threshold[ecdg_code][key] = {'min_score': val['min_score'], 'max_score': val['max_score']}\n",
    "    else:\n",
    "        dict_aecc_threshold[ecdg_code][key] = {'min_score': val['min_score'], 'max_score': val['max_score']}\n",
    "\n",
    "complexity_col = []\n",
    "for stay_idx in tqdm(df_patientdata.index):\n",
    "    depst_admitted = 0\n",
    "    depst_died = 0\n",
    "    depst_left = 0\n",
    "    depst_referred = 0\n",
    "    triag1 = 0\n",
    "    triag2 = 0\n",
    "    triag3 = 0\n",
    "    triag4 = 0\n",
    "    transmodB_1 = 0\n",
    "    age0509 = 0\n",
    "    age1014 = 0\n",
    "    age1569 = 0\n",
    "    age7074 = 0\n",
    "    age7579 = 0\n",
    "    age8084 = 0\n",
    "    age85 = 0\n",
    "    depst_admitted_age_0014 = 0\n",
    "    depst_admitted_age_80 = 0\n",
    "    depst_admitted_triage_1 = 0\n",
    "    depst_admitted_triage_2 = 0\n",
    "    depst_admitted_triage_3 = 0\n",
    "    depst_admitted_triage_4 = 0\n",
    "\n",
    "    patient_info = df_patientdata.loc[stay_idx]\n",
    "\n",
    "    if patient_info['disposition'] in ['WARD', 'ICU']:\n",
    "        depst_admitted = 1\n",
    "\n",
    "    if patient_info['disposition'] in ['TRANSFER']:\n",
    "        depst_referred = 1\n",
    "\n",
    "    if patient_info['acuity'] == '1':\n",
    "        triag1 = 1\n",
    "    elif patient_info['acuity'] == '2':\n",
    "        triag2 = 1\n",
    "    elif patient_info['acuity'] == '3':\n",
    "        triag3 = 1\n",
    "    elif patient_info['acuity'] == '4':\n",
    "        triag4 = 1\n",
    "\n",
    "    if patient_info['arrival_transport'] in ['AMBULANCE', 'HELICOPTER']:\n",
    "        transmodB_1 = 1\n",
    "\n",
    "    if 5 <= patient_info['age'] <= 9:\n",
    "        age0509 = 1\n",
    "    elif 10 <= patient_info['age'] <= 14:\n",
    "        age1014 = 1\n",
    "    elif 15 <= patient_info['age'] <= 69:\n",
    "        age1569 = 1\n",
    "    elif 70 <= patient_info['age'] <= 74:\n",
    "        age7074 = 1\n",
    "    elif 75 <= patient_info['age'] <= 79:\n",
    "        age7579 = 1\n",
    "    elif 80 <= patient_info['age'] <= 84:\n",
    "        age8084 = 1\n",
    "    elif 85 <= patient_info['age']:\n",
    "        age85 = 1\n",
    "\n",
    "    if depst_admitted:\n",
    "        if 0 <= patient_info['age'] <= 14:\n",
    "            depst_admitted_age_0014 = 1\n",
    "        if 80 <= patient_info['age']:\n",
    "            depst_admitted_age_80 = 1\n",
    "        if triag1:\n",
    "            depst_admitted_triage_1 = 1\n",
    "        if triag2:\n",
    "            depst_admitted_triage_2 = 1\n",
    "        if triag3:\n",
    "            depst_admitted_triage_3 = 1\n",
    "        if triag4:\n",
    "            depst_admitted_triage_4 = 1\n",
    "\n",
    "    patient_ceofficients = dict_aecc_coefficients[patient_info['ecdg']]\n",
    "\n",
    "    predicted_value = 5.902 + \\\n",
    "                        patient_ceofficients['endstatus_admitted'] * depst_admitted + \\\n",
    "                        patient_ceofficients['endstatus_died'] * depst_died + \\\n",
    "                        patient_ceofficients['endstatus_left'] * depst_left + \\\n",
    "                        patient_ceofficients['endstatus_referred'] * depst_referred + \\\n",
    "                        patient_ceofficients['arrival_ambulance'] * transmodB_1 + \\\n",
    "                        patient_ceofficients['triage_1'] * triag1 + \\\n",
    "                        patient_ceofficients['triage_2'] * triag2 + \\\n",
    "                        patient_ceofficients['triage_3'] * triag3 + \\\n",
    "                        patient_ceofficients['triage_4'] * triag4 + \\\n",
    "                        patient_ceofficients['age_05_09'] * age0509 + \\\n",
    "                        patient_ceofficients['age_10_14'] * age1014 + \\\n",
    "                        patient_ceofficients['age_15_69'] * age1569 + \\\n",
    "                        patient_ceofficients['age_70_74'] * age7074 + \\\n",
    "                        patient_ceofficients['age_75_79'] * age7579 + \\\n",
    "                        patient_ceofficients['age_80_84'] * age8084 + \\\n",
    "                        patient_ceofficients['age_85+'] * age85 + \\\n",
    "                        patient_ceofficients['admitted_age_0_14'] * depst_admitted_age_0014 + \\\n",
    "                        patient_ceofficients['admitted_age_80+'] * depst_admitted_age_80 + \\\n",
    "                        patient_ceofficients['admitted_triage_1'] * depst_admitted_triage_1 + \\\n",
    "                        patient_ceofficients['admitted_triage_2'] * depst_admitted_triage_2 + \\\n",
    "                        patient_ceofficients['admitted_triage_3'] * depst_admitted_triage_3 + \\\n",
    "                        patient_ceofficients['admitted_triage_4'] * depst_admitted_triage_4 + \\\n",
    "                        dict_aecc_subgroup_intercept[patient_info['ecdg_subgroup']]['intercept']\n",
    "\n",
    "    complexity_score = ((np.exp(predicted_value) - 713) / 166) + 3.26\n",
    "\n",
    "    for key, val in dict_aecc_threshold[patient_info['ecdg']].items():\n",
    "        if val['min_score'] <= complexity_score < val['max_score']:\n",
    "            complexity_val = key[-1]\n",
    "            if complexity_val in ['A', 'Z']:\n",
    "                complexity_val = 'HIGH'\n",
    "            elif complexity_val == 'B':\n",
    "                complexity_val = 'MODERATE'\n",
    "            elif complexity_val in ['C', 'D']:\n",
    "                complexity_val = 'LOW'\n",
    "            break\n",
    "\n",
    "    complexity_col.append(complexity_val)\n",
    "\n",
    "df_patientdata.loc[:, 'complexity'] = complexity_col\n",
    "df_patientdata"
   ]
  },
  {
   "cell_type": "code",
   "execution_count": null,
   "metadata": {},
   "outputs": [],
   "source": [
    "# Retain the relevant patient information needed for the study\n",
    "df_patientdata = df_patientdata[['subject_id', 'acuity', 'disposition', 'complexity', 'los']].reset_index()\n",
    "df_patientdata"
   ]
  },
  {
   "cell_type": "code",
   "execution_count": null,
   "metadata": {},
   "outputs": [],
   "source": [
    "# Save preprocessed patient records that will be used for the study\n",
    "outpath = 'data/preprocessed'\n",
    "if not os.path.exists(outpath):\n",
    "    os.makedirs(outpath)\n",
    "\n",
    "df_patientdata.to_csv(f'{outpath}/patient_data.csv', index=False)"
   ]
  },
  {
   "cell_type": "code",
   "execution_count": null,
   "metadata": {},
   "outputs": [],
   "source": [
    "# Plot frequency distribution of disposition and complexity per acuity\n",
    "import seaborn as sns\n",
    "import matplotlib.pyplot as plt\n",
    "from matplotlib import rc\n",
    "rc('font',**{'family':'sans-serif','sans-serif':['Helvetica']})"
   ]
  },
  {
   "cell_type": "code",
   "execution_count": null,
   "metadata": {},
   "outputs": [],
   "source": [
    "palette = {'HOME': '#009E73',\n",
    "          'WARD': '#56B4E9',\n",
    "          'ICU': '#E69F00'}\n",
    "fig, ax = plt.subplots(1, 1, figsize=(2,2))\n",
    "fig.dpi = 600\n",
    "ax = sns.histplot(data=df_patientdata.sort_values(by=['acuity']), x='acuity', hue='disposition', hue_order=['HOME', 'WARD', 'ICU'], stat='percent', multiple='fill', shrink=0.8, alpha=0.5, palette=palette)\n",
    "sns.move_legend(\n",
    "    ax, 'upper left',\n",
    "    bbox_to_anchor=(1, 1.05), ncol=1, title='Disposition', frameon=False, columnspacing=0.9, handlelength=0.8, handletextpad=0.5\n",
    ")\n",
    "plt.xlabel('Acuity')\n",
    "ax.set_yticks([0, 0.2, 0.4, 0.6, 0.8, 1])\n",
    "ax.set_yticklabels(['0', '20', '40', '60', '80', '100'])\n",
    "plt.show()"
   ]
  },
  {
   "cell_type": "code",
   "execution_count": null,
   "metadata": {},
   "outputs": [],
   "source": [
    "palette = {'HIGH':'#CC79A7',\n",
    "        'MODERATE':'#D55E00',\n",
    "        'LOW':'#0072B2'}\n",
    "fig, ax = plt.subplots(1, 1, figsize=(2,2))\n",
    "fig.dpi = 600\n",
    "ax = sns.histplot(data=df_patientdata.sort_values(by=['acuity']), x='acuity', hue='complexity', hue_order=['HIGH', 'MODERATE', 'LOW'], stat='percent', multiple='fill', palette=palette, shrink=0.8, alpha=0.5)\n",
    "sns.move_legend(\n",
    "    ax, 'upper left',\n",
    "    bbox_to_anchor=(1, 1.05), ncol=1, title='Complexity', frameon=False, columnspacing=0.9, handlelength=0.8, handletextpad=0.5, reverse=True\n",
    ")\n",
    "\n",
    "plt.xlabel('Acuity')\n",
    "ax.set_yticks([0, 0.2, 0.4, 0.6, 0.8, 1])\n",
    "ax.set_yticklabels(['0', '20', '40', '60', '80', '100'])\n",
    "plt.show()"
   ]
  }
 ],
 "metadata": {
  "kernelspec": {
   "display_name": "base",
   "language": "python",
   "name": "python3"
  },
  "language_info": {
   "codemirror_mode": {
    "name": "ipython",
    "version": 3
   },
   "file_extension": ".py",
   "mimetype": "text/x-python",
   "name": "python",
   "nbconvert_exporter": "python",
   "pygments_lexer": "ipython3",
   "version": "3.9.12"
  }
 },
 "nbformat": 4,
 "nbformat_minor": 2
}
